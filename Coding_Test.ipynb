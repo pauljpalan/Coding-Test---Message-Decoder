{
  "nbformat": 4,
  "nbformat_minor": 0,
  "metadata": {
    "colab": {
      "provenance": []
    },
    "kernelspec": {
      "name": "python3",
      "display_name": "Python 3"
    },
    "language_info": {
      "name": "python"
    }
  },
  "cells": [
    {
      "cell_type": "code",
      "source": [
        "from google.colab import drive\n",
        "drive.mount('/content/drive')"
      ],
      "metadata": {
        "colab": {
          "base_uri": "https://localhost:8080/"
        },
        "id": "BWBJE_9RSsZ2",
        "outputId": "91e48fc0-256b-46a8-c60a-63251abc7a77"
      },
      "execution_count": 14,
      "outputs": [
        {
          "output_type": "stream",
          "name": "stdout",
          "text": [
            "Mounted at /content/drive\n"
          ]
        }
      ]
    },
    {
      "cell_type": "code",
      "source": [
        "import pandas as pd\n",
        "import numpy as np"
      ],
      "metadata": {
        "id": "hqVTGzqDUBm3"
      },
      "execution_count": 21,
      "outputs": []
    },
    {
      "cell_type": "code",
      "source": [
        "def decode(message_file):\n",
        "  #open txt file and read into dataframe, sorted by number\n",
        "  file = open(message_file)\n",
        "  data = pd.read_csv(file, sep = ' ', header = None)\n",
        "  data.columns = ['num', 'word']\n",
        "  data.sort_values(by='num', axis=0, ignore_index=True, inplace=True)\n",
        "\n",
        "  #initialize count variables\n",
        "  count = 1 #number of elements on level\n",
        "  end_num = 1 #ending number of level\n",
        "\n",
        "  message_nums = [] #initialize an empty list of ending level ending numbers\n",
        "\n",
        "  #while the ending number is less than the greatest number in the file, append ending number to list\n",
        "  while end_num <= data.shape[0]:\n",
        "    message_nums.append(data.loc[end_num-1, 'num']) #append ending number to list\n",
        "    count += 1\n",
        "    end_num = end_num + count\n",
        "\n",
        "  #print secret message based on message nums\n",
        "  for i in message_nums:\n",
        "    print(data.loc[i-1, 'word'], end = ' ')"
      ],
      "metadata": {
        "id": "iQtkJWQBh-Ju"
      },
      "execution_count": 108,
      "outputs": []
    },
    {
      "cell_type": "code",
      "source": [
        "#decode simple test file\n",
        "decode('/content/drive/MyDrive/test_input.txt')"
      ],
      "metadata": {
        "colab": {
          "base_uri": "https://localhost:8080/"
        },
        "id": "Dz5DhANSqts3",
        "outputId": "dd438350-a8f1-4a19-805e-336fb862d024"
      },
      "execution_count": 110,
      "outputs": [
        {
          "output_type": "stream",
          "name": "stdout",
          "text": [
            "I love computers "
          ]
        }
      ]
    },
    {
      "cell_type": "code",
      "source": [
        "#decode file\n",
        "decode('/content/drive/MyDrive/coding_qual_input.txt')"
      ],
      "metadata": {
        "colab": {
          "base_uri": "https://localhost:8080/"
        },
        "id": "i1OVyF_nn7gY",
        "outputId": "d61ee52b-6896-492c-8cc8-7e592db8cf74"
      },
      "execution_count": 109,
      "outputs": [
        {
          "output_type": "stream",
          "name": "stdout",
          "text": [
            "design all skill whole check deal wish visit now moment offer planet people electric lot huge system card current man way our parent wait "
          ]
        }
      ]
    },
    {
      "cell_type": "code",
      "source": [
        "#decode text file with only 299 words (not full pyramid)\n",
        "decode('/content/drive/MyDrive/coding_qual_input_299.txt')"
      ],
      "metadata": {
        "colab": {
          "base_uri": "https://localhost:8080/"
        },
        "id": "AEDs0SNjwSOX",
        "outputId": "a19fd780-676e-462b-fd9b-9fff13d1b164"
      },
      "execution_count": 111,
      "outputs": [
        {
          "output_type": "stream",
          "name": "stdout",
          "text": [
            "design all skill whole check deal wish visit now moment offer planet people electric lot huge system card current man way our parent "
          ]
        }
      ]
    }
  ]
}